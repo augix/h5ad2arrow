{
 "cells": [
  {
   "cell_type": "code",
   "execution_count": 1,
   "metadata": {},
   "outputs": [],
   "source": [
    "# reload the func\n",
    "%load_ext autoreload\n",
    "%autoreload 2"
   ]
  },
  {
   "cell_type": "code",
   "execution_count": 2,
   "metadata": {},
   "outputs": [],
   "source": [
    "# import and config\n",
    "import pyarrow as pa\n",
    "import numpy as np\n",
    "\n",
    "n_records = 1000\n",
    "max_length = 20\n",
    "max_gene_id = 100\n",
    "output_arrow_fn = 'test.arrow'\n",
    "\n",
    "keys = ['arrow_i', 'genes', 'exprs']\n",
    "pa_types = {'arrow_i': pa.int64(), 'genes': pa.int16(), 'exprs': pa.float16()}\n",
    "np_types = {'arrow_i': np.int64, 'genes': np.int16, 'exprs': np.float16}"
   ]
  },
  {
   "cell_type": "code",
   "execution_count": 3,
   "metadata": {},
   "outputs": [
    {
     "name": "stdout",
     "output_type": "stream",
     "text": [
      "{'arrow_i': [array([0])], 'genes': [array([23, 47, 90, 93, 10, 52, 95, 59, 31, 46, 15, 37, 92, 88, 90, 20],\n",
      "      dtype=int16)], 'exprs': [array([0.782 , 0.55  , 0.813 , 0.1925, 0.1016, 0.7705, 0.713 , 0.8   ,\n",
      "       0.9546, 0.0327, 0.4514, 0.158 , 0.6963, 0.7754, 0.1738, 0.5107],\n",
      "      dtype=float16)]}\n",
      "{'arrow_i': [array([1])], 'genes': [array([50, 12, 76, 40, 98, 48, 83, 20], dtype=int16)], 'exprs': [array([0.6343 , 0.391  , 0.2191 , 0.932  , 0.12067, 0.657  , 0.798  ,\n",
      "       0.3064 ], dtype=float16)]}\n",
      "{'arrow_i': [array([2])], 'genes': [array([11, 31, 46, 16, 78, 66, 44, 50,  8], dtype=int16)], 'exprs': [array([0.6313 , 0.741  , 0.5635 , 0.4128 , 0.649  , 0.993  , 0.04953,\n",
      "       0.8965 , 0.4275 ], dtype=float16)]}\n"
     ]
    }
   ],
   "source": [
    "from func import create_random_data, create_schema, create_arrow_file, get_record_dict\n",
    "\n",
    "data = create_random_data(n_records, max_length, max_gene_id, np_types)\n",
    "for i in range(3):\n",
    "    print(next(data))\n",
    "\n",
    "# reset the random data generator\n",
    "data = create_random_data(n_records, max_length, max_gene_id, np_types)\n"
   ]
  },
  {
   "cell_type": "code",
   "execution_count": 4,
   "metadata": {},
   "outputs": [
    {
     "name": "stdout",
     "output_type": "stream",
     "text": [
      "arrow_i: list<item: int64>\n",
      "  child 0, item: int64\n",
      "genes: list<item: int16>\n",
      "  child 0, item: int16\n",
      "exprs: list<item: halffloat>\n",
      "  child 0, item: halffloat\n"
     ]
    }
   ],
   "source": [
    "schema = create_schema(keys, pa_types)\n",
    "print(schema)"
   ]
  },
  {
   "cell_type": "code",
   "execution_count": 5,
   "metadata": {},
   "outputs": [],
   "source": [
    "create_arrow_file(output_arrow_fn, data, schema)"
   ]
  },
  {
   "cell_type": "code",
   "execution_count": 7,
   "metadata": {},
   "outputs": [
    {
     "name": "stdout",
     "output_type": "stream",
     "text": [
      "----------------------------------------------------------------------------------------------------\n",
      "arrow_i: [[0]]\n",
      "genes: [[78, 50, 3, 36, 19, 9, 12, 56, 60, 25, 9, 90, 37, 69, 46, 72, 7, 19, 84]]\n",
      "exprs: [[0.0353, 0.05115, 0.8623, 0.7573, 0.319, 0.01949, 0.755, 0.1342, 0.7705, 0.8984, 0.458, 0.8794, 0.04184, 0.015236, 0.9863, 0.133, 0.5835, 0.6494, 0.133]]\n",
      "----------------------------------------------------------------------------------------------------\n",
      "arrow_i: [[1]]\n",
      "genes: [[96, 24, 25, 84, 82, 63, 1]]\n",
      "exprs: [[0.1514, 0.0936, 0.2854, 0.547, 0.1887, 0.648, 0.0649]]\n",
      "----------------------------------------------------------------------------------------------------\n",
      "arrow_i: [[2]]\n",
      "genes: [[76, 92, 76, 90, 99, 66, 86, 55, 41, 2]]\n",
      "exprs: [[0.1799, 0.415, 0.3223, 0.669, 0.917, 0.4255, 0.283, 0.4705, 0.3079, 0.855]]\n"
     ]
    }
   ],
   "source": [
    "# randomly select 3 arrow indices\n",
    "for i in range(3):\n",
    "    r = get_record_dict(output_arrow_fn, i)\n",
    "    print('-' * 100)\n",
    "    for k,v in r.items():\n",
    "        print(f'{k}: {v}')\n"
   ]
  }
 ],
 "metadata": {
  "kernelspec": {
   "display_name": "py310",
   "language": "python",
   "name": "python3"
  },
  "language_info": {
   "codemirror_mode": {
    "name": "ipython",
    "version": 3
   },
   "file_extension": ".py",
   "mimetype": "text/x-python",
   "name": "python",
   "nbconvert_exporter": "python",
   "pygments_lexer": "ipython3",
   "version": "3.10.14"
  }
 },
 "nbformat": 4,
 "nbformat_minor": 2
}
